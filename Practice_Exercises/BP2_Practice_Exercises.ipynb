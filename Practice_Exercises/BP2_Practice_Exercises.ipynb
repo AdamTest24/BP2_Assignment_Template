{
 "cells": [
  {
   "cell_type": "markdown",
   "metadata": {},
   "source": [
    "## Practice Questions \n",
    "\n",
    "### **Chapter 4 - Introduction to Arrays**\n"
   ]
  },
  {
   "cell_type": "markdown",
   "metadata": {},
   "source": [
    "__Exercise 1__"
   ]
  },
  {
   "cell_type": "markdown",
   "metadata": {},
   "source": [
    "\n",
    "Implement a list array called \"fibonacci\", whose members represent the first 8 numbers of the Fibonacci sequence as follows:\n",
    "\n",
    "\n",
    "| Fibonacci Numbers (first 8) |\n",
    "|---|\n",
    "| 1 , 1 , 2 , 3 , 5 , 8 , 13 , 21  |"
   ]
  },
  {
   "cell_type": "code",
   "execution_count": null,
   "metadata": {},
   "outputs": [],
   "source": []
  },
  {
   "cell_type": "markdown",
   "metadata": {},
   "source": [
    "__Exercise 2__"
   ]
  },
  {
   "cell_type": "markdown",
   "metadata": {},
   "source": [
    "\n",
    "Retrieve and display the 5th Fibonacci number from the list you created in **Exercise 1**."
   ]
  },
  {
   "cell_type": "code",
   "execution_count": null,
   "metadata": {},
   "outputs": [],
   "source": []
  },
  {
   "cell_type": "markdown",
   "metadata": {},
   "source": [
    "__Exercise 3__"
   ]
  },
  {
   "cell_type": "markdown",
   "metadata": {},
   "source": [
    "\n",
    "Retrieve and display the last Fibonacci number from the list you created in **Exercise 1**."
   ]
  },
  {
   "cell_type": "code",
   "execution_count": null,
   "metadata": {},
   "outputs": [],
   "source": []
  },
  {
   "cell_type": "markdown",
   "metadata": {},
   "source": [
    "__Exercise 4__"
   ]
  },
  {
   "cell_type": "markdown",
   "metadata": {},
   "source": [
    "Retrieve and display a slice of Fibonacci numbers from the list you created in **Exercise 1** that includes all the members from the 2nd number onwards — i.e. the slice must not include the first value in the list."
   ]
  },
  {
   "cell_type": "code",
   "execution_count": null,
   "metadata": {},
   "outputs": [],
   "source": []
  },
  {
   "cell_type": "markdown",
   "metadata": {},
   "source": [
    "__Exercise 5__"
   ]
  },
  {
   "cell_type": "markdown",
   "metadata": {},
   "source": [
    "Find and display the index of these values from the list of Fibonacci numbers that you created in **Exercise 1**: \n",
    "\n",
    "- 1\n",
    "- 5 \n",
    "- 21\n"
   ]
  },
  {
   "cell_type": "code",
   "execution_count": null,
   "metadata": {},
   "outputs": [],
   "source": []
  },
  {
   "cell_type": "markdown",
   "metadata": {},
   "source": [
    "__Exercise 6__"
   ]
  },
  {
   "cell_type": "markdown",
   "metadata": {},
   "source": [
    "Given fibonacci, the list representing the first 8 numbers in the Fibonacci sequence that you created in **Exercise 1**: \n",
    "\n",
    "1. The 10th number in the Fibonacci sequence is 55. Add this value to fibonacci.\n",
    "\n",
    "2. Now that you have added 55 to the list, it no longer provides a correct representation of the Fibonacci sequence. Alter fibonacci and insert the missing number such that your it correctly represents the first 10 numbers in the Fibonacci sequence, as follows:\n",
    "\n",
    "| Fibonacci Numbers (first 10) |\n",
    "|---|\n",
    "| 1, 1, 2, 3, 5, 8, 13, 21, 34, 55 |\n",
    "\n"
   ]
  },
  {
   "cell_type": "code",
   "execution_count": null,
   "metadata": {},
   "outputs": [],
   "source": []
  },
  {
   "cell_type": "code",
   "execution_count": null,
   "metadata": {},
   "outputs": [],
   "source": []
  },
  {
   "cell_type": "markdown",
   "metadata": {},
   "source": [
    "__Exercise 7__"
   ]
  },
  {
   "cell_type": "markdown",
   "metadata": {},
   "source": [
    "Given a list containing the first 10 prime numbers as:\n",
    "\n",
    "```\n",
    "primes = [2, 3, 5, 11, 7, 13, 17, 19, 23, 29]\n",
    "```\n",
    "\n",
    "However, values 11 and 7 have been misplaced in the sequence. Correct the order by replacing the slice of primes that represents [11, 7] with [7, 11].\n",
    "\n"
   ]
  },
  {
   "cell_type": "code",
   "execution_count": null,
   "metadata": {},
   "outputs": [],
   "source": []
  },
  {
   "cell_type": "markdown",
   "metadata": {},
   "source": [
    "__Exercise 8__"
   ]
  },
  {
   "cell_type": "markdown",
   "metadata": {},
   "source": [
    "We know that the nucleotides of DNA include A, C, T, and G. Given a list representing the nucleotides of a DNA strand as:\n",
    "\n",
    "```\n",
    "strand = ['A', 'C', 'G', 'G', 'C', 'M', 'T', 'A']\n",
    "```\n",
    "\n",
    "1. Find the index of the invalid nucleotide in \"strand\".\n",
    "\n",
    "2. Use the index you found to remove the invalid nucleotide from \"strand\" and retain the value in another variable. Display the result as:\n",
    "\n",
    "```\n",
    "Removed from the strand: X \n",
    "New strand: [X, X, X, ...]\n",
    "```\n",
    "\n",
    "3. Explain what do you think happens once we run the following code, and why? What would be the final result displayed on the screen?\n",
    "\n",
    "```\n",
    "strand.remove('G') \n",
    "print(strand)\n",
    "```\n"
   ]
  },
  {
   "cell_type": "code",
   "execution_count": null,
   "metadata": {},
   "outputs": [],
   "source": []
  },
  {
   "cell_type": "code",
   "execution_count": null,
   "metadata": {},
   "outputs": [],
   "source": []
  },
  {
   "cell_type": "code",
   "execution_count": null,
   "metadata": {},
   "outputs": [],
   "source": []
  },
  {
   "cell_type": "markdown",
   "metadata": {},
   "source": [
    "__Exercise 9__"
   ]
  },
  {
   "cell_type": "markdown",
   "metadata": {},
   "source": [
    "Given a list of randomly generated peptide sequences as:\n",
    "    \n",
    "```\n",
    "peptides = [\n",
    "    'FAEKE', 'DMSGG', 'CMGFT', 'HVEFW', 'DCYFH', 'RDFDM', 'RTYRA', \n",
    "    'PVTEQ', 'WITFR', 'SWANQ', 'PFELC', 'KSANR', 'EQKVL', 'SYALD', \n",
    "    'FPNCF', 'SCDYK', 'MFRST', 'KFMII', 'NFYQC', 'LVKVR', 'PQKTF', \n",
    "    'LTWFQ', 'EFAYE', 'GPCCQ', 'VFDYF', 'RYSAY', 'CCTCG', 'ECFMY', \n",
    "    'CPNLY', 'CSMFW', 'NNVSR', 'SLNKF', 'CGRHC', 'LCQCS', 'AVERE', \n",
    "    'MDKHQ', 'YHKTQ', 'HVRWD', 'YNFQW', 'MGCLY', 'CQCCL', 'ACQCL'\n",
    "]\n",
    "```\n",
    "\n",
    "Determine whether or not each of the following sequences exist in peptides; and if so, what is their corresponding index:\n",
    "\n",
    "- IVADH\n",
    "- CMGFT\n",
    "- DKAKL\n",
    "- THGYP\n",
    "- NNVSR\n",
    "\n",
    "Display the results in the following format:\n",
    "    \n",
    "```\n",
    "Sequence XXXXX was found at index XX\n",
    "```"
   ]
  },
  {
   "cell_type": "code",
   "execution_count": null,
   "metadata": {},
   "outputs": [],
   "source": []
  },
  {
   "cell_type": "code",
   "execution_count": null,
   "metadata": {},
   "outputs": [],
   "source": []
  },
  {
   "cell_type": "code",
   "execution_count": null,
   "metadata": {},
   "outputs": [],
   "source": []
  },
  {
   "cell_type": "code",
   "execution_count": null,
   "metadata": {},
   "outputs": [],
   "source": []
  },
  {
   "cell_type": "code",
   "execution_count": null,
   "metadata": {},
   "outputs": [],
   "source": []
  },
  {
   "cell_type": "markdown",
   "metadata": {},
   "source": [
    "__Exercise 10__"
   ]
  },
  {
   "cell_type": "markdown",
   "metadata": {},
   "source": [
    "Given the list of random peptides defined in **Exercise 9**:\n",
    "    \n",
    "1. Define a list called \"overlaps\" containing the sequences whose presence in peptides you confirmed in **Exercise 9**. \n",
    "\n",
    "2. Determine the length of peptides.\n",
    "\n",
    "3. Determine the length of overlaps.\n",
    "\n",
    "Display yours results as follows:\n",
    "\n",
    "``` \n",
    "overlaps = ['XXXXX', 'XXXXX', ...] \n",
    "Length of peptides: XX\n",
    "Length of overlaps: XX\n",
    "```\n",
    "\n"
   ]
  },
  {
   "cell_type": "code",
   "execution_count": null,
   "metadata": {},
   "outputs": [],
   "source": []
  },
  {
   "cell_type": "code",
   "execution_count": null,
   "metadata": {},
   "outputs": [],
   "source": []
  },
  {
   "cell_type": "code",
   "execution_count": null,
   "metadata": {},
   "outputs": [],
   "source": []
  },
  {
   "cell_type": "markdown",
   "metadata": {},
   "source": [
    "__Exercise 11__"
   ]
  },
  {
   "cell_type": "markdown",
   "metadata": {},
   "source": [
    "When defining a consensus sequence, it is common to include annotations to represent ambiguous amino acids. Four such annotations are as follows:\n",
    "\n",
    "| Names | 1-Letter | 3-Letter Annot. | 1-Letter Annot. |\n",
    "|---|---|---|---|\n",
    "| Any / Unknown              | All         | Xaa     | X |\n",
    "| Asparagine / Aspartic Acid              | D / B         | Asx     | B |\n",
    "| Glutamine / Glutamic Acid              | E / Q         | Glx     | Z |\n",
    "| Leucine / Isoleucine             | L / I         | Xle     | J |\n",
    "\n",
    "\n",
    "Given a list of amino acids as:\n",
    "\n",
    "```\n",
    "amino_acids = [\n",
    "    'A', 'R', 'N', 'D', 'C', 'E', 'Q', 'G', 'H', 'I',\n",
    "    'L', 'K', 'M', 'F', 'P', 'S', 'T', 'W', 'Y', 'V' \n",
    "]\n",
    "```\n",
    "\n",
    "1. Use \"amino_acids\" to create an independent list called \"amino_acid_annotations\" that contains all the standard amino acids.\n",
    "\n",
    "2. Add to \"amino_acid_annotations\" the 1-Letter annotation for the ambiguous amino acids as outlined in the table.\n",
    "\n",
    "3. Evaluate the lengths for \"amino_acids\" and \"amino_acid_annotations\" and retain the result in a new list called lengths.\n",
    "\n",
    "4. Using logical operations, test the two values stored in lengths for equivalence and display the result as a boolean (i.e. True or False) output.\n",
    "\n"
   ]
  },
  {
   "cell_type": "code",
   "execution_count": null,
   "metadata": {},
   "outputs": [],
   "source": []
  },
  {
   "cell_type": "code",
   "execution_count": null,
   "metadata": {},
   "outputs": [],
   "source": []
  },
  {
   "cell_type": "code",
   "execution_count": null,
   "metadata": {},
   "outputs": [],
   "source": []
  },
  {
   "cell_type": "code",
   "execution_count": null,
   "metadata": {},
   "outputs": [],
   "source": []
  },
  {
   "cell_type": "markdown",
   "metadata": {},
   "source": [
    "__Exercise 12__"
   ]
  },
  {
   "cell_type": "markdown",
   "metadata": {},
   "source": [
    "Ask the user to enter a sequence of single-letter amino acids in lower case. Convert the sequence to list and: \n",
    "\n",
    "1. Count the number of serine and threonine residues and display the result in the following format:\n",
    "\n",
    "2. Check whether or not the sequence contains both serine and threonine residues: \n",
    "\n",
    "- If it does, display:\n",
    "\n",
    "```\n",
    "The sequence does contain both serine and threonine residues.\n",
    "```\n",
    "\n",
    "- if it does not, display:\n",
    "\n",
    "```\n",
    "The sequence does not contain both serine and threonine residues.\n",
    "```\n"
   ]
  },
  {
   "cell_type": "code",
   "execution_count": null,
   "metadata": {},
   "outputs": [],
   "source": []
  },
  {
   "cell_type": "code",
   "execution_count": null,
   "metadata": {},
   "outputs": [],
   "source": []
  },
  {
   "cell_type": "markdown",
   "metadata": {},
   "source": [
    "__Exercise 13__"
   ]
  },
  {
   "cell_type": "markdown",
   "metadata": {},
   "source": [
    "Create a list, and experiment with each of the methods provided in the above example. Try including members of different types in your list and see how each of these methods behave."
   ]
  },
  {
   "cell_type": "code",
   "execution_count": null,
   "metadata": {},
   "outputs": [],
   "source": []
  },
  {
   "cell_type": "markdown",
   "metadata": {},
   "source": [
    "__Exercise 14__"
   ]
  },
  {
   "cell_type": "markdown",
   "metadata": {},
   "source": [
    "Give then following of pathogens and their corresponding diseases:\n",
    "\n",
    "\n",
    "| Pathogen Type | Gram | Pathogen Name | Disease |\n",
    "|---|---|---|---|\n",
    "| Bacterium             | Negative        | _Shigella flexneri_     | Bacillary dysentery |\n",
    "| Prion             | N/A       | PrP(sc)     | Transmissible spongiform encephalopathies |\n",
    "| Bacterium             | Negative        | _Vibrio cholerae_     | Cholera |\n",
    "| Bacterium             | Negative        | _Listeria monocytogenes_     | Listeriosis |\n",
    "| Virus             | N/A       | Hepatitis C     | Hepatitis |\n",
    "| Bacterium             | Negative        | _Heliobacter pylori_     | Peptic ulcers |\n",
    "| Bacterium             | Negative        | _Chlamydia trachomatis_     | Chalmydial diseases |\n",
    "| Virus             | N/A       | Human Immunodeficiency Virus     | Human Immunodeficiency |\n",
    "\n",
    "\n",
    "1. Substituting N/A with \"None\", create an array to represent the table in the original order. Retain the array in a variable and display the result.\n",
    "\n",
    "\n",
    "2. Modify the array you created so that the members are sorted _descendingly_ and display the result.\n"
   ]
  },
  {
   "cell_type": "code",
   "execution_count": null,
   "metadata": {},
   "outputs": [],
   "source": []
  },
  {
   "cell_type": "code",
   "execution_count": null,
   "metadata": {},
   "outputs": [],
   "source": []
  },
  {
   "cell_type": "markdown",
   "metadata": {},
   "source": [
    "__Exercise 15__"
   ]
  },
  {
   "cell_type": "markdown",
   "metadata": {},
   "source": [
    "Computers see images as multidimensional arrays (matrices). In its simplest form, an image is a two-dimensional array containing only 2 colours.\n",
    "Given a black and white image.\n",
    "\n",
    "![](bwImage.png)\n",
    "    \n",
    "    \n",
    "1. Considering black and white squares represent zeros and ones respectively, create a two-dimensional array to represent the above image. Display the results.\n",
    "\n",
    "2. Create a new array, but this time use False and True to represent black and white respectively. Display the results.\n"
   ]
  },
  {
   "cell_type": "code",
   "execution_count": null,
   "metadata": {},
   "outputs": [],
   "source": []
  },
  {
   "cell_type": "code",
   "execution_count": null,
   "metadata": {},
   "outputs": [],
   "source": []
  },
  {
   "cell_type": "markdown",
   "metadata": {},
   "source": [
    "__Exercise 16__"
   ]
  },
  {
   "cell_type": "markdown",
   "metadata": {},
   "source": [
    "Given:\n",
    "\n",
    "```\n",
    "protein_info = ('GFP', 238)\n",
    "```\n",
    "\n",
    "Unpack \"protein_info\" into two distinct variables protein_name and protein_length.\n"
   ]
  },
  {
   "cell_type": "code",
   "execution_count": null,
   "metadata": {},
   "outputs": [],
   "source": []
  }
 ],
 "metadata": {
  "kernelspec": {
   "display_name": "Python 3 (ipykernel)",
   "language": "python",
   "name": "python3"
  },
  "language_info": {
   "codemirror_mode": {
    "name": "ipython",
    "version": 3
   },
   "file_extension": ".py",
   "mimetype": "text/x-python",
   "name": "python",
   "nbconvert_exporter": "python",
   "pygments_lexer": "ipython3",
   "version": "3.12.4"
  },
  "toc-autonumbering": false,
  "toc-showmarkdowntxt": false,
  "toc-showtags": false
 },
 "nbformat": 4,
 "nbformat_minor": 4
}
