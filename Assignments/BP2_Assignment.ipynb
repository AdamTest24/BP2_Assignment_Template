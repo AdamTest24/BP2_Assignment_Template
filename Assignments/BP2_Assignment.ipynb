{
 "cells": [
  {
   "cell_type": "markdown",
   "metadata": {},
   "source": [
    "## L2D Assignment - Basic Python 2:"
   ]
  },
  {
   "cell_type": "markdown",
   "metadata": {},
   "source": [
    "This notebook contains your assignment questions for the Basic Python 2 lesson. Please attempt and complete all questions. The topics this assignment will assess are:\n",
    "\n",
    "4. Introduction to Arrays\n",
    "\n",
    "When you have completed your assignment, please commit the changes to your GitHub repository's 'Assignments' folder, as instructed in the [Assignments section](https://learntodiscover.github.io/L2D-Handbook/section7.html) of the [L2D Handbok](https://learntodiscover.github.io/L2D-Handbook)."
   ]
  },
  {
   "cell_type": "markdown",
   "metadata": {},
   "source": [
    "1. We have\n",
    "\n",
    "```\n",
    "table = [[1, 2, 3], ['a', 'b'], [1.5, 'b', 4], [2]]\n",
    "```\n",
    "\n",
    "what is the length of \"table\" and why?\n",
    "\n",
    "Store your answer in a variable and display it using __print()__.\n",
    "\n"
   ]
  },
  {
   "cell_type": "code",
   "execution_count": null,
   "metadata": {},
   "outputs": [],
   "source": []
  },
  {
   "cell_type": "markdown",
   "metadata": {},
   "source": [
    "2. Given the sequence for the Gamma (catalytic) subunit of the Protein Kinase A as:\n",
    "\n",
    "```\n",
    "human_pka_gamma = (\n",
    "    'MAAPAAATAMGNAPAKKDTEQEESVNEFLAKARGDFLYRWGNPAQNTASSDQFERLRTLGMGSFGRVML' \n",
    "    'VRHQETGGHYAMKILNKQKVVKMKQVEHILNEKRILQAIDFPFLVKLQFSFKDNSYLYLVMEYVPGGEM' \n",
    "    'FSRLQRVGRFSEPHACFYAAQVVLAVQYLHSLDLIHRDLKPENLLIDQQGYLQVTDFGFAKRVKGRTWT' \n",
    "    'LCGTPEYLAPEIILSKGYNKAVDWWALGVLIYEMAVGFPPFYADQPIQIYEKIVSGRVRFPSKLSSDLK' \n",
    "    'DLLRSLLQVDLTKRFGNLRNGVGDIKNHKWFATTSWIAIYEKKVEAPFIPKYTGPGDASNFDDYEEEEL' \n",
    "    'RISINEKCAKEFSEF'\n",
    ")\n",
    "```\n",
    "\n",
    "Using the sequence;\n",
    "- work out and display the number of Serin (S) residues.\n",
    "- work out and display the number of Threonine (T) residues.\n",
    "- calculate and display the total number of Serine and Threonine residues in the following format:\n",
    "\n",
    "```\n",
    " Serine: X \n",
    " Threonine: X\n",
    "```\n",
    "\n",
    "- create a nested array to represent the following table, and call it \"residues\":\n",
    "\n",
    "| Row | Column 0 (letter) | Column 1 (value) |\n",
    "|---|---|---|\n",
    "| 0             | S        | Number of Ser residues |\n",
    "| 1             | T        | Number of Thr residues |"
   ]
  },
  {
   "cell_type": "code",
   "execution_count": null,
   "metadata": {},
   "outputs": [],
   "source": []
  },
  {
   "cell_type": "code",
   "execution_count": null,
   "metadata": {},
   "outputs": [],
   "source": []
  },
  {
   "cell_type": "code",
   "execution_count": null,
   "metadata": {},
   "outputs": [],
   "source": []
  },
  {
   "cell_type": "code",
   "execution_count": null,
   "metadata": {},
   "outputs": [],
   "source": []
  },
  {
   "cell_type": "markdown",
   "metadata": {},
   "source": [
    "3. Explain why in the previous question, we used the term nested instead of two-dimensional in reference to the array? Store your answer in a variable and display it using __print()__."
   ]
  },
  {
   "cell_type": "code",
   "execution_count": null,
   "metadata": {},
   "outputs": [],
   "source": []
  },
  {
   "cell_type": "markdown",
   "metadata": {},
   "source": [
    "4. [Graph theory](https://en.wikipedia.org/wiki/Graph_theory) is a prime object of discrete mathematics and is utilised for the non-linear analyses of data. The theory is extensively used in systems biology, and is gaining momentum in bioinformatics too. In essence, a [graph](https://en.wikipedia.org/wiki/Graph_(discrete_mathematics)) is a structure that represents a set of object (nodes) and the connections between them (edges).\n",
    "\t\t\n",
    "The aforementioned connections are described using a special binary (zero and one) matrix known as the adjacency matrix. The elements of this matrix indicate whether or not a pair of nodes in the graph are adjacent to one another. \n",
    "\n",
    " ![Graph & Adjacency Matrix](https://lido-october2023.github.io/Basic_Python/fig/adjacency_matrix.png)\n",
    "\t\t\n",
    "where each row in the matrix represents a node of origin in the graph, and each column a node of destination:\n",
    "\n",
    "![Adjacency Matrix](https://lido-october2023.github.io/Basic_Python/fig/adjacency_matrix2.png)\n",
    "\n",
    "If the graph maintains a connection (edge) between 2 nodes (*e.g.* between nodes <span style=\"color: rgb(32, 121, 77);\">A</span> and <span style=\"color: rgb(32, 121, 77);\">B</span> in the graph above), the corresponding value between those nodes would be \\#1 in the matrix, and if there are no connections, the corresponding value would \\#0. \n",
    "\n",
    "Given the following graph:\n",
    "![Graph of Neuroendocrine Interactions](https://lido-october2023.github.io/Basic_Python/fig/adjacency_matrix3.png)\n",
    "\n",
    "Determine the adjacency matrix and implement it as a two-dimensional array in Python. Display the final array.\n"
   ]
  },
  {
   "cell_type": "code",
   "execution_count": null,
   "metadata": {},
   "outputs": [],
   "source": []
  }
 ],
 "metadata": {
  "kernelspec": {
   "display_name": "Python 3 (ipykernel)",
   "language": "python",
   "name": "python3"
  },
  "language_info": {
   "codemirror_mode": {
    "name": "ipython",
    "version": 3
   },
   "file_extension": ".py",
   "mimetype": "text/x-python",
   "name": "python",
   "nbconvert_exporter": "python",
   "pygments_lexer": "ipython3",
   "version": "3.8.13"
  },
  "toc-autonumbering": false,
  "toc-showmarkdowntxt": false,
  "toc-showtags": false
 },
 "nbformat": 4,
 "nbformat_minor": 4
}
