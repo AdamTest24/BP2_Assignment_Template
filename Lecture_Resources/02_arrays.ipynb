{
 "cells": [
  {
   "cell_type": "markdown",
   "id": "58d53989-fd16-449d-8870-51e67a98334e",
   "metadata": {},
   "source": [
    "# List"
   ]
  },
  {
   "cell_type": "code",
   "execution_count": null,
   "id": "2701aab0-2a5b-4d2e-82bb-be424bb00a52",
   "metadata": {},
   "outputs": [],
   "source": [
    "my_list = [1, 2, 3]"
   ]
  },
  {
   "cell_type": "code",
   "execution_count": null,
   "id": "4b38c1fc-c86a-4d21-a9b3-8bd484c22a96",
   "metadata": {},
   "outputs": [],
   "source": [
    "my_list"
   ]
  },
  {
   "cell_type": "code",
   "execution_count": null,
   "id": "143194fc-2c40-4a0a-9f52-49892dde4fc5",
   "metadata": {},
   "outputs": [],
   "source": [
    "my_list[2]"
   ]
  },
  {
   "cell_type": "code",
   "execution_count": null,
   "id": "f0a0fe3d-0c4d-43b2-bb68-e6d36462846a",
   "metadata": {},
   "outputs": [],
   "source": [
    "my_list[-1]"
   ]
  },
  {
   "cell_type": "code",
   "execution_count": null,
   "id": "a767b13e-f8b2-49e2-b12f-7d699c022fed",
   "metadata": {},
   "outputs": [],
   "source": [
    "my_list[-2] == my_list[1]"
   ]
  },
  {
   "cell_type": "code",
   "execution_count": null,
   "id": "d23489db-5aba-48de-9d0d-7fb659e2b80f",
   "metadata": {},
   "outputs": [],
   "source": [
    "my_list[3]"
   ]
  },
  {
   "cell_type": "code",
   "execution_count": null,
   "id": "38d673a9-e264-4bb9-8144-b2059c937453",
   "metadata": {},
   "outputs": [],
   "source": [
    "my_list[:]"
   ]
  },
  {
   "cell_type": "code",
   "execution_count": null,
   "id": "b73516b9-3a98-4b73-bc26-82ef824ebae3",
   "metadata": {},
   "outputs": [],
   "source": [
    "my_list[:2]"
   ]
  },
  {
   "cell_type": "code",
   "execution_count": null,
   "id": "4c3b9346-e8b1-42d7-86d5-a69948a26afc",
   "metadata": {},
   "outputs": [],
   "source": [
    "my_list[1:]"
   ]
  },
  {
   "cell_type": "code",
   "execution_count": null,
   "id": "ff62f16a-7936-4646-9ddf-63a41bb36ef5",
   "metadata": {},
   "outputs": [],
   "source": [
    "my_list.index(3)"
   ]
  },
  {
   "cell_type": "code",
   "execution_count": null,
   "id": "97b63d0a-608d-4701-8530-3ce396a82c1e",
   "metadata": {},
   "outputs": [],
   "source": [
    "no_items = len(my_list)\n",
    "\n",
    "no_items"
   ]
  },
  {
   "cell_type": "code",
   "execution_count": null,
   "id": "94e70dd2-01f4-49cc-9c0c-b37c6916ad6b",
   "metadata": {},
   "outputs": [],
   "source": [
    "my_list"
   ]
  },
  {
   "cell_type": "code",
   "execution_count": null,
   "id": "67cbdd5a-962a-4515-85c0-f19a205a079d",
   "metadata": {},
   "outputs": [],
   "source": [
    "my_list.append(4)\n",
    "\n",
    "my_list"
   ]
  },
  {
   "cell_type": "code",
   "execution_count": null,
   "id": "e0fb9b88-117b-474e-8222-49bf3d08cc1b",
   "metadata": {},
   "outputs": [],
   "source": [
    "my_list.append('Something')\n",
    "\n",
    "my_list"
   ]
  },
  {
   "cell_type": "code",
   "execution_count": null,
   "id": "c0823b58-1b9c-405a-8d1a-fc8e42d00a26",
   "metadata": {},
   "outputs": [],
   "source": [
    "my_list[-1]"
   ]
  },
  {
   "cell_type": "code",
   "execution_count": null,
   "id": "1764d02b-ba7b-49ec-9524-0e02d3a069f7",
   "metadata": {},
   "outputs": [],
   "source": [
    "my_list.remove('Something')\n",
    "\n",
    "my_list"
   ]
  },
  {
   "cell_type": "markdown",
   "id": "41733e64-1200-4f63-b285-aec3cbfe784f",
   "metadata": {},
   "source": [
    "# Nested Arrays"
   ]
  },
  {
   "cell_type": "code",
   "execution_count": null,
   "id": "3ca722a4-6f72-4371-ae6f-b6753149254d",
   "metadata": {},
   "outputs": [],
   "source": [
    "my_nested_list = [[1, 2], [3, 4], [5, 6]]\n",
    "\n",
    "my_nested_list"
   ]
  },
  {
   "cell_type": "code",
   "execution_count": null,
   "id": "8eb5d6cb-ecc8-4758-adc9-3b78367b6555",
   "metadata": {},
   "outputs": [],
   "source": [
    "len(my_nested_list)"
   ]
  },
  {
   "cell_type": "code",
   "execution_count": null,
   "id": "6c94acbc-1b24-493b-b212-c23649156a73",
   "metadata": {},
   "outputs": [],
   "source": [
    "my_nested_list.append([7, 8])\n",
    "\n",
    "my_nested_list"
   ]
  },
  {
   "cell_type": "code",
   "execution_count": null,
   "id": "8d51e2ec-5159-4834-936e-adeb988e78ed",
   "metadata": {},
   "outputs": [],
   "source": [
    "my_nested_list.append([(10, 11), (12, 13)])\n",
    "\n",
    "my_nested_list"
   ]
  },
  {
   "cell_type": "code",
   "execution_count": null,
   "id": "57a5118f-75dc-47db-b616-010a03d03db4",
   "metadata": {},
   "outputs": [],
   "source": [
    "my_nested_list[-1]"
   ]
  },
  {
   "cell_type": "code",
   "execution_count": null,
   "id": "27720f96-c219-47df-aabd-9bb4ee874c7c",
   "metadata": {},
   "outputs": [],
   "source": [
    "my_nested_list[-1][0][1]"
   ]
  },
  {
   "cell_type": "code",
   "execution_count": null,
   "id": "91ecefe1-f0c0-4cf1-96fc-f0bb5509f7dd",
   "metadata": {},
   "outputs": [],
   "source": []
  }
 ],
 "metadata": {
  "kernelspec": {
   "display_name": "Python 3 (ipykernel)",
   "language": "python",
   "name": "python3"
  },
  "language_info": {
   "codemirror_mode": {
    "name": "ipython",
    "version": 3
   },
   "file_extension": ".py",
   "mimetype": "text/x-python",
   "name": "python",
   "nbconvert_exporter": "python",
   "pygments_lexer": "ipython3",
   "version": "3.12.4"
  }
 },
 "nbformat": 4,
 "nbformat_minor": 5
}
